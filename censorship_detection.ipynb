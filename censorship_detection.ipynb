{
 "cells": [
  {
   "cell_type": "code",
   "execution_count": 22,
   "metadata": {
    "collapsed": true,
    "pycharm": {
     "is_executing": false,
     "name": "#%%\n"
    }
   },
   "outputs": [
    {
     "name": "stdout",
     "text": [
      "ip data prepared\n"
     ],
     "output_type": "stream"
    }
   ],
   "source": [
    "\n",
    "# !{sys.executable} -m pip install pandas\n",
    "# !{sys.executable} -m pip install dnspython3\n",
    "\n",
    "import sys\n",
    "from scapy.all import *\n",
    "import socket\n",
    "import numpy as np\n",
    "import pandas as pd\n",
    "import dns.resolver\n",
    "\n",
    "\n",
    "\n",
    "b = pd.read_excel('/home/munna/Downloads/blocked.xlsx')\n",
    "\n",
    "count=0;\n",
    "\n",
    "ip_data = []\n",
    "\n",
    "test_b = b\n",
    "\n",
    "for index, row in test_b.iterrows():\n",
    "    data = []\n",
    "    data.append(row[0])\n",
    "    host_name = row[0]\n",
    "    if '/' in host_name:    \n",
    "        position_of_slash = host_name.find('/')\n",
    "        host_name = host_name[:position_of_slash]\n",
    "    data.append(host_name)\n",
    "    \n",
    "    host_ip_address = ''\n",
    "    dns_ip_addresses = []\n",
    "    \n",
    "    try:\n",
    "        ip_address = socket.gethostbyname(host_name)\n",
    "        host_ip_address = ip_address\n",
    "        data.append(ip_address)\n",
    "    except:\n",
    "        data.append('cannot resolve')\n",
    "    \n",
    "    try:\n",
    "        dns_resolver = dns.resolver.Resolver()\n",
    "        dns_resolver.nameservers = ['8.8.8.8']\n",
    "        dns_resolver_ip_address = dns_resolver.query(host_name)\n",
    "        for i in dns_resolver_ip_address:\n",
    "            dns_ip_addresses.append(i.address)\n",
    "            \n",
    "        dns_ip_addresses_str = ', '.join(dns_ip_addresses)\n",
    "        data.append(dns_ip_addresses_str)\n",
    "        \n",
    "    except:\n",
    "        data.append('cant resolve ip from dns server')\n",
    "        \n",
    "    if host_ip_address in dns_ip_addresses:\n",
    "        data.append('no dns censorship')\n",
    "    else:\n",
    "        data.append('dns censorship detected')\n",
    "    \n",
    "     \n",
    "    ip_data.append(data)\n",
    "    \n",
    "    \n",
    "        \n",
    "    \n",
    "print('ip data prepared')\n",
    "    \n",
    "# ip_data_frame = pd.DataFrame(ip_data,'web_address','modified_web_address','ip_address','dns_ip_addresses','dns_censorship_status')\n",
    "# \n",
    "# print(ip_data_frame)\n",
    "\n",
    "\n",
    "\n"
   ]
  },
  {
   "cell_type": "code",
   "execution_count": 24,
   "outputs": [],
   "source": [
    "\n",
    "\n",
    "ip_data_frame = pd.DataFrame(ip_data, columns=['web_address','modified_web_address','ip_address','dns_ip_addresses','dns_censorship_status'])\n",
    "ip_data_frame.to_csv('/home/munna/Pictures/ip_test.csv')\n"
   ],
   "metadata": {
    "collapsed": false,
    "pycharm": {
     "name": "#%%\n",
     "is_executing": false
    }
   }
  },
  {
   "cell_type": "code",
   "execution_count": 18,
   "outputs": [
    {
     "name": "stdout",
     "text": [
      "no dns censorship detected\n"
     ],
     "output_type": "stream"
    }
   ],
   "source": [
    "\n",
    "local_ip_address =socket.gethostbyname('bdpolitico.com')\n",
    "dns_resolver = dns.resolver.Resolver()\n",
    "dns_resolver.nameservers = ['8.8.8.8']\n",
    "ip_address = dns_resolver.query('bdpolitico.com','a')\n",
    "ip_address_list = []\n",
    "\n",
    "for rdata in ip_address:\n",
    "    ip_address_list.append(rdata.address)\n",
    "    \n",
    "if local_ip_address in ip_address_list:\n",
    "    print('no dns censorship detected')\n",
    "else:\n",
    "    print('dns censorship detected')\n",
    "\n"
   ],
   "metadata": {
    "collapsed": false,
    "pycharm": {
     "name": "#%%\n",
     "is_executing": false
    }
   }
  },
  {
   "cell_type": "code",
   "execution_count": 31,
   "outputs": [
    {
     "traceback": [
      "\u001b[0;31m---------------------------------------------------------------------------\u001b[0m",
      "\u001b[0;31mValueError\u001b[0m                                Traceback (most recent call last)",
      "\u001b[0;32m<ipython-input-31-8d782fd9ee05>\u001b[0m in \u001b[0;36m<module>\u001b[0;34m\u001b[0m\n\u001b[1;32m     12\u001b[0m \u001b[0mdestination_ip_address\u001b[0m \u001b[0;34m=\u001b[0m \u001b[0msocket\u001b[0m\u001b[0;34m.\u001b[0m\u001b[0mgethostbyname\u001b[0m\u001b[0;34m(\u001b[0m\u001b[0;34m'bdnews24.com'\u001b[0m\u001b[0;34m)\u001b[0m\u001b[0;34m\u001b[0m\u001b[0;34m\u001b[0m\u001b[0m\n\u001b[1;32m     13\u001b[0m \u001b[0;34m\u001b[0m\u001b[0m\n\u001b[0;32m---> 14\u001b[0;31m \u001b[0mip\u001b[0m \u001b[0;34m=\u001b[0m \u001b[0mIP\u001b[0m\u001b[0;34m(\u001b[0m\u001b[0msrc\u001b[0m\u001b[0;34m=\u001b[0m\u001b[0mlocal_ip_address\u001b[0m\u001b[0;34m,\u001b[0m \u001b[0mdsc\u001b[0m\u001b[0;34m=\u001b[0m\u001b[0mdestination_ip_address\u001b[0m\u001b[0;34m)\u001b[0m\u001b[0;34m\u001b[0m\u001b[0;34m\u001b[0m\u001b[0m\n\u001b[0m\u001b[1;32m     15\u001b[0m \u001b[0mSYN\u001b[0m \u001b[0;34m=\u001b[0m \u001b[0mTCP\u001b[0m\u001b[0;34m(\u001b[0m\u001b[0msport\u001b[0m\u001b[0;34m=\u001b[0m\u001b[0msport\u001b[0m\u001b[0;34m,\u001b[0m \u001b[0mdport\u001b[0m\u001b[0;34m=\u001b[0m\u001b[0;36m443\u001b[0m\u001b[0;34m,\u001b[0m \u001b[0mflags\u001b[0m\u001b[0;34m=\u001b[0m\u001b[0;34m'S'\u001b[0m\u001b[0;34m,\u001b[0m \u001b[0mseq\u001b[0m\u001b[0;34m=\u001b[0m\u001b[0;36m1000\u001b[0m\u001b[0;34m)\u001b[0m\u001b[0;34m\u001b[0m\u001b[0;34m\u001b[0m\u001b[0m\n\u001b[1;32m     16\u001b[0m \u001b[0mSYNACK\u001b[0m \u001b[0;34m=\u001b[0m \u001b[0msr1\u001b[0m\u001b[0;34m(\u001b[0m\u001b[0mip\u001b[0m\u001b[0;34m/\u001b[0m\u001b[0mSYN\u001b[0m\u001b[0;34m)\u001b[0m\u001b[0;34m\u001b[0m\u001b[0;34m\u001b[0m\u001b[0m\n",
      "\u001b[0;32m~/anaconda3/envs/internet_censorship/lib/python3.7/site-packages/scapy/base_classes.py\u001b[0m in \u001b[0;36m__call__\u001b[0;34m(cls, *args, **kargs)\u001b[0m\n\u001b[1;32m    256\u001b[0m                 \u001b[0mcls\u001b[0m \u001b[0;34m=\u001b[0m \u001b[0mconfig\u001b[0m\u001b[0;34m.\u001b[0m\u001b[0mconf\u001b[0m\u001b[0;34m.\u001b[0m\u001b[0mraw_layer\u001b[0m\u001b[0;34m\u001b[0m\u001b[0;34m\u001b[0m\u001b[0m\n\u001b[1;32m    257\u001b[0m         \u001b[0mi\u001b[0m \u001b[0;34m=\u001b[0m \u001b[0mcls\u001b[0m\u001b[0;34m.\u001b[0m\u001b[0m__new__\u001b[0m\u001b[0;34m(\u001b[0m\u001b[0mcls\u001b[0m\u001b[0;34m,\u001b[0m \u001b[0mcls\u001b[0m\u001b[0;34m.\u001b[0m\u001b[0m__name__\u001b[0m\u001b[0;34m,\u001b[0m \u001b[0mcls\u001b[0m\u001b[0;34m.\u001b[0m\u001b[0m__bases__\u001b[0m\u001b[0;34m,\u001b[0m \u001b[0mcls\u001b[0m\u001b[0;34m.\u001b[0m\u001b[0m__dict__\u001b[0m\u001b[0;34m)\u001b[0m\u001b[0;34m\u001b[0m\u001b[0;34m\u001b[0m\u001b[0m\n\u001b[0;32m--> 258\u001b[0;31m         \u001b[0mi\u001b[0m\u001b[0;34m.\u001b[0m\u001b[0m__init__\u001b[0m\u001b[0;34m(\u001b[0m\u001b[0;34m*\u001b[0m\u001b[0margs\u001b[0m\u001b[0;34m,\u001b[0m \u001b[0;34m**\u001b[0m\u001b[0mkargs\u001b[0m\u001b[0;34m)\u001b[0m\u001b[0;34m\u001b[0m\u001b[0;34m\u001b[0m\u001b[0m\n\u001b[0m\u001b[1;32m    259\u001b[0m         \u001b[0;32mreturn\u001b[0m \u001b[0mi\u001b[0m\u001b[0;34m\u001b[0m\u001b[0;34m\u001b[0m\u001b[0m\n\u001b[1;32m    260\u001b[0m \u001b[0;34m\u001b[0m\u001b[0m\n",
      "\u001b[0;32m~/anaconda3/envs/internet_censorship/lib/python3.7/site-packages/scapy/packet.py\u001b[0m in \u001b[0;36m__init__\u001b[0;34m(self, _pkt, post_transform, _internal, _underlayer, **fields)\u001b[0m\n\u001b[1;32m    156\u001b[0m             \u001b[0mself\u001b[0m\u001b[0;34m.\u001b[0m\u001b[0mfields\u001b[0m\u001b[0;34m[\u001b[0m\u001b[0mfname\u001b[0m\u001b[0;34m]\u001b[0m \u001b[0;34m=\u001b[0m \u001b[0mself\u001b[0m\u001b[0;34m.\u001b[0m\u001b[0mget_field\u001b[0m\u001b[0;34m(\u001b[0m\u001b[0mfname\u001b[0m\u001b[0;34m)\u001b[0m\u001b[0;34m.\u001b[0m\u001b[0many2i\u001b[0m\u001b[0;34m(\u001b[0m\u001b[0mself\u001b[0m\u001b[0;34m,\u001b[0m \u001b[0mvalue\u001b[0m\u001b[0;34m)\u001b[0m\u001b[0;34m\u001b[0m\u001b[0;34m\u001b[0m\u001b[0m\n\u001b[1;32m    157\u001b[0m         \u001b[0;31m# The remaining fields are unknown\u001b[0m\u001b[0;34m\u001b[0m\u001b[0;34m\u001b[0m\u001b[0;34m\u001b[0m\u001b[0m\n\u001b[0;32m--> 158\u001b[0;31m         \u001b[0;32mfor\u001b[0m \u001b[0mfname\u001b[0m\u001b[0;34m,\u001b[0m \u001b[0m_\u001b[0m \u001b[0;32min\u001b[0m \u001b[0mfields\u001b[0m\u001b[0;34m:\u001b[0m\u001b[0;34m\u001b[0m\u001b[0;34m\u001b[0m\u001b[0m\n\u001b[0m\u001b[1;32m    159\u001b[0m             \u001b[0;32mraise\u001b[0m \u001b[0mAttributeError\u001b[0m\u001b[0;34m(\u001b[0m\u001b[0mfname\u001b[0m\u001b[0;34m)\u001b[0m\u001b[0;34m\u001b[0m\u001b[0;34m\u001b[0m\u001b[0m\n\u001b[1;32m    160\u001b[0m         \u001b[0;32mif\u001b[0m \u001b[0misinstance\u001b[0m\u001b[0;34m(\u001b[0m\u001b[0mpost_transform\u001b[0m\u001b[0;34m,\u001b[0m \u001b[0mlist\u001b[0m\u001b[0;34m)\u001b[0m\u001b[0;34m:\u001b[0m\u001b[0;34m\u001b[0m\u001b[0;34m\u001b[0m\u001b[0m\n",
      "\u001b[0;31mValueError\u001b[0m: too many values to unpack (expected 2)"
     ],
     "ename": "ValueError",
     "evalue": "too many values to unpack (expected 2)",
     "output_type": "error"
    }
   ],
   "source": [
    "# !{sys.executable} -m pip install scapy-python3\n",
    "from scapy.layers.inet import  IP\n",
    "from scapy.layers.inet import  TCP\n",
    "from scapy.layers.inet import  sr1\n",
    "from scapy.sendrecv import *\n",
    "from scapy.all import *\n",
    "from random import randint\n",
    "\n",
    "sport = randint(1024,65535)\n",
    "\n",
    "device_ip_address = socket.gethostbyname(socket.gethostname())\n",
    "destination_ip_address = socket.gethostbyname('bdnews24.com')\n",
    "\n",
    "ip = IP(src=local_ip_address, dsc=destination_ip_address)\n",
    "SYN = TCP(sport=sport, dport=443, flags='S', seq=1000)\n",
    "SYNACK = sr1(ip/SYN)\n",
    "\n",
    "\n",
    "ACK=TCP(sport=sport, dport=443, flags='A', seq=SYNACK.ack + 1, ack=SYNACK.seq + 1)\n",
    "send(ip/ACK)\n",
    "\n",
    "#SYN"
   ],
   "metadata": {
    "collapsed": false,
    "pycharm": {
     "name": "#%%\n",
     "is_executing": false
    }
   }
  },
  {
   "cell_type": "code",
   "execution_count": null,
   "outputs": [],
   "source": [
    "\n"
   ],
   "metadata": {
    "collapsed": false,
    "pycharm": {
     "name": "#%%\n"
    }
   }
  }
 ],
 "metadata": {
  "language_info": {
   "codemirror_mode": {
    "name": "ipython",
    "version": 2
   },
   "file_extension": ".py",
   "mimetype": "text/x-python",
   "name": "python",
   "nbconvert_exporter": "python",
   "pygments_lexer": "ipython2",
   "version": "2.7.6"
  },
  "kernelspec": {
   "name": "python3",
   "language": "python",
   "display_name": "Python 3"
  },
  "pycharm": {
   "stem_cell": {
    "cell_type": "raw",
    "source": [],
    "metadata": {
     "collapsed": false
    }
   }
  }
 },
 "nbformat": 4,
 "nbformat_minor": 0
}