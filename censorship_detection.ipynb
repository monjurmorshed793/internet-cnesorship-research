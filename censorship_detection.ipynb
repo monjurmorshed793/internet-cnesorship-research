{
 "cells": [
  {
   "cell_type": "code",
   "execution_count": 22,
   "metadata": {
    "collapsed": true,
    "pycharm": {
     "is_executing": false,
     "name": "#%%\n"
    }
   },
   "outputs": [
    {
     "name": "stdout",
     "text": [
      "ip data prepared\n"
     ],
     "output_type": "stream"
    }
   ],
   "source": [
    "\n",
    "# !{sys.executable} -m pip install pandas\n",
    "# !{sys.executable} -m pip install dnspython3\n",
    "\n",
    "import sys\n",
    "from scapy.all import *\n",
    "import socket\n",
    "import numpy as np\n",
    "import pandas as pd\n",
    "import dns.resolver\n",
    "\n",
    "\n",
    "\n",
    "b = pd.read_excel('/home/munna/Downloads/blocked.xlsx')\n",
    "\n",
    "count=0;\n",
    "\n",
    "ip_data = []\n",
    "\n",
    "test_b = b\n",
    "\n",
    "for index, row in test_b.iterrows():\n",
    "    data = []\n",
    "    data.append(row[0])\n",
    "    host_name = row[0]\n",
    "    if '/' in host_name:    \n",
    "        position_of_slash = host_name.find('/')\n",
    "        host_name = host_name[:position_of_slash]\n",
    "    data.append(host_name)\n",
    "    \n",
    "    host_ip_address = ''\n",
    "    dns_ip_addresses = []\n",
    "    \n",
    "    try:\n",
    "        ip_address = socket.gethostbyname(host_name)\n",
    "        host_ip_address = ip_address\n",
    "        data.append(ip_address)\n",
    "    except:\n",
    "        data.append('cannot resolve')\n",
    "    \n",
    "    try:\n",
    "        dns_resolver = dns.resolver.Resolver()\n",
    "        dns_resolver.nameservers = ['8.8.8.8']\n",
    "        dns_resolver_ip_address = dns_resolver.query(host_name)\n",
    "        for i in dns_resolver_ip_address:\n",
    "            dns_ip_addresses.append(i.address)\n",
    "            \n",
    "        dns_ip_addresses_str = ', '.join(dns_ip_addresses)\n",
    "        data.append(dns_ip_addresses_str)\n",
    "        \n",
    "    except:\n",
    "        data.append('cant resolve ip from dns server')\n",
    "        \n",
    "    if host_ip_address in dns_ip_addresses:\n",
    "        data.append('no dns censorship')\n",
    "    else:\n",
    "        data.append('dns censorship detected')\n",
    "    \n",
    "     \n",
    "    ip_data.append(data)\n",
    "    \n",
    "    \n",
    "        \n",
    "    \n",
    "print('ip data prepared')\n",
    "    \n",
    "# ip_data_frame = pd.DataFrame(ip_data,'web_address','modified_web_address','ip_address','dns_ip_addresses','dns_censorship_status')\n",
    "# \n",
    "# print(ip_data_frame)\n",
    "\n",
    "\n",
    "\n"
   ]
  },
  {
   "cell_type": "code",
   "execution_count": 24,
   "outputs": [],
   "source": [
    "\n",
    "\n",
    "ip_data_frame = pd.DataFrame(ip_data, columns=['web_address','modified_web_address','ip_address','dns_ip_addresses','dns_censorship_status'])\n",
    "ip_data_frame.to_csv('/home/munna/Pictures/ip_test.csv')\n"
   ],
   "metadata": {
    "collapsed": false,
    "pycharm": {
     "name": "#%%\n",
     "is_executing": false
    }
   }
  },
  {
   "cell_type": "code",
   "execution_count": 18,
   "outputs": [
    {
     "name": "stdout",
     "text": [
      "no dns censorship detected\n"
     ],
     "output_type": "stream"
    }
   ],
   "source": [
    "\n",
    "local_ip_address =socket.gethostbyname('bdpolitico.com')\n",
    "dns_resolver = dns.resolver.Resolver()\n",
    "dns_resolver.nameservers = ['8.8.8.8']\n",
    "ip_address = dns_resolver.query('bdpolitico.com','a')\n",
    "ip_address_list = []\n",
    "\n",
    "for rdata in ip_address:\n",
    "    ip_address_list.append(rdata.address)\n",
    "    \n",
    "if local_ip_address in ip_address_list:\n",
    "    print('no dns censorship detected')\n",
    "else:\n",
    "    print('dns censorship detected')\n",
    "\n"
   ],
   "metadata": {
    "collapsed": false,
    "pycharm": {
     "name": "#%%\n",
     "is_executing": false
    }
   }
  },
  {
   "cell_type": "code",
   "execution_count": 14,
   "outputs": [
    {
     "data": {
      "text/plain": "'52.74.249.151'"
     },
     "metadata": {},
     "output_type": "execute_result",
     "execution_count": 14
    }
   ],
   "source": [
    "\n",
    "ip_address = socket.gethostbyname('bdnews24.com')\n",
    "ip_address"
   ],
   "metadata": {
    "collapsed": false,
    "pycharm": {
     "name": "#%%\n",
     "is_executing": false
    }
   }
  }
 ],
 "metadata": {
  "language_info": {
   "codemirror_mode": {
    "name": "ipython",
    "version": 2
   },
   "file_extension": ".py",
   "mimetype": "text/x-python",
   "name": "python",
   "nbconvert_exporter": "python",
   "pygments_lexer": "ipython2",
   "version": "2.7.6"
  },
  "kernelspec": {
   "name": "python3",
   "language": "python",
   "display_name": "Python 3"
  },
  "pycharm": {
   "stem_cell": {
    "cell_type": "raw",
    "source": [],
    "metadata": {
     "collapsed": false
    }
   }
  }
 },
 "nbformat": 4,
 "nbformat_minor": 0
}