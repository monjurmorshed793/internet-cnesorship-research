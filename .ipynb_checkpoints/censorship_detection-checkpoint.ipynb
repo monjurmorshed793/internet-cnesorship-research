{
 "cells": [
  {
   "cell_type": "code",
   "execution_count": null,
   "metadata": {
    "pycharm": {
     "is_executing": false,
     "name": "#%%\n"
    }
   },
   "outputs": [
    {
     "name": "stdout",
     "output_type": "stream",
     "text": [
      "Collecting dnspython3\n",
      "Collecting dnspython==1.15.0 (from dnspython3)\n",
      "  Using cached https://files.pythonhosted.org/packages/a6/72/209e18bdfedfd78c6994e9ec96981624a5ad7738524dd474237268422cb8/dnspython-1.15.0-py2.py3-none-any.whl\n",
      "Installing collected packages: dnspython, dnspython3\n",
      "Successfully installed dnspython-1.15.0 dnspython3-1.15.0\n"
     ]
    }
   ],
   "source": [
    "\n",
    "# !{sys.executable} -m pip install pandas\n",
    "#!{sys.executable} -m pip install dnspython3\n",
    "\n",
    "import sys\n",
    "from scapy.all import *\n",
    "import socket\n",
    "import numpy as np\n",
    "import pandas as pd\n",
    "import dns.resolver\n",
    "\n",
    "\n",
    "\n",
    "b = pd.read_excel('/home/munna/Downloads/blocked.xlsx')\n",
    "\n",
    "count=0;\n",
    "\n",
    "ip_data = []\n",
    "\n",
    "for index, row in b.iterrows():\n",
    "    data = []\n",
    "    data.append(row[0])\n",
    "    host_name = row[0]\n",
    "    if '/' in host_name:    \n",
    "        position_of_slash = host_name.find('/')\n",
    "        host_name = host_name[:position_of_slash]\n",
    "    data.append(host_name)\n",
    "    \n",
    "    host_ip_address = ''\n",
    "    dns_ip_addresses = []\n",
    "    \n",
    "    try:\n",
    "        ip_address = socket.gethostbyname(host_name)\n",
    "        host_ip_address = ip_address\n",
    "        data.append(ip_address)\n",
    "    except:\n",
    "        data.append('cannot resolve')\n",
    "    \n",
    "    try:\n",
    "        dns_resolver = dns.resolver.Resolver()\n",
    "        dns_resolver.nameservers = ['8.8.8.8']\n",
    "        dns_resolver_ip_address = dns_resolver.query(host_name)\n",
    "        for i in dns_resolver_ip_address:\n",
    "            dns_ip_addresses.append(i)\n",
    "            \n",
    "        dns_ip_addresses_str = ','.join(dns_ip_addresses)\n",
    "        data.append(dns_ip_addresses)\n",
    "        \n",
    "    except:\n",
    "        data.append('cant resolve ip from dns server')\n",
    "        \n",
    "    dns_censorship_status = \"dns censorship\"\n",
    "    # for data in dns_ip_addresses:\n",
    "    #     if host_ip_address==data:\n",
    "    #         dns_censorship_status=\"dns censorship not found\"\n",
    "    #         break\n",
    "    # \n",
    "    data.append(dns_censorship_status)\n",
    "    \n",
    "     \n",
    "    ip_data.append(data)\n",
    "    \n",
    "    \n",
    "        \n",
    "    \n",
    "print('ip data prepared')\n",
    "    \n",
    "# ip_data_frame = pd.DataFrame(ip_data,'web_address','modified_web_address','ip_address','dns_ip_addresses','dns_censorship_status')\n",
    "# \n",
    "# print(ip_data_frame)\n",
    "\n",
    "\n",
    "\n"
   ]
  },
  {
   "cell_type": "code",
   "execution_count": 17,
   "metadata": {
    "pycharm": {
     "is_executing": false,
     "name": "#%%\n"
    }
   },
   "outputs": [],
   "source": [
    "\n",
    "\n",
    "ip_data_frame = pd.DataFrame(ip_data, columns=['web_address','modified_web_address','ip_address','dns_ip_addresses','dns_censorship_status'])\n",
    "ip_data_frame.to_csv('/home/munna/Pictures/ip_test.csv')\n"
   ]
  },
  {
   "cell_type": "code",
   "execution_count": 4,
   "metadata": {
    "pycharm": {
     "is_executing": false,
     "name": "#%%\n"
    }
   },
   "outputs": [
    {
     "name": "stdout",
     "output_type": "stream",
     "text": [
      "52.74.249.151\n",
      "52.220.141.145\n"
     ]
    }
   ],
   "source": [
    "dns_resolver = dns.resolver.Resolver()\n",
    "dns_resolver.nameservers = ['8.8.8.8']\n",
    "ip_address = dns_resolver.query('bdnews24.com','a')\n",
    "ip_address_list = []\n",
    "\n",
    "for rdata in ip_address:\n",
    "    ip_address_list.append(rdata)\n",
    "    \n",
    "for data in ip_address_list:\n",
    "    print(data)"
   ]
  },
  {
   "cell_type": "code",
   "execution_count": 14,
   "metadata": {
    "pycharm": {
     "is_executing": false,
     "name": "#%%\n"
    }
   },
   "outputs": [
    {
     "data": {
      "text/plain": [
       "'52.74.249.151'"
      ]
     },
     "execution_count": 14,
     "metadata": {},
     "output_type": "execute_result"
    }
   ],
   "source": [
    "\n",
    "ip_address = socket.gethostbyname('bdnews24.com')\n",
    "ip_address"
   ]
  }
 ],
 "metadata": {
  "kernelspec": {
   "display_name": "Python 3",
   "language": "python",
   "name": "python3"
  },
  "language_info": {
   "codemirror_mode": {
    "name": "ipython",
    "version": 3
   },
   "file_extension": ".py",
   "mimetype": "text/x-python",
   "name": "python",
   "nbconvert_exporter": "python",
   "pygments_lexer": "ipython3",
   "version": "3.7.3"
  },
  "pycharm": {
   "stem_cell": {
    "cell_type": "raw",
    "metadata": {
     "collapsed": false
    },
    "source": []
   }
  }
 },
 "nbformat": 4,
 "nbformat_minor": 1
}
